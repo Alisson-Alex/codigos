{
  "nbformat": 4,
  "nbformat_minor": 0,
  "metadata": {
    "colab": {
      "provenance": []
    },
    "kernelspec": {
      "name": "python3",
      "display_name": "Python 3"
    },
    "language_info": {
      "name": "python"
    }
  },
  "cells": [
    {
      "cell_type": "code",
      "execution_count": null,
      "metadata": {
        "colab": {
          "base_uri": "https://localhost:8080/"
        },
        "id": "MBUhBXkyZVFO",
        "outputId": "cbe4779d-5122-450e-ad96-c805bd0e9c95"
      },
      "outputs": [
        {
          "output_type": "stream",
          "name": "stdout",
          "text": [
            "Adulto\n"
          ]
        }
      ],
      "source": [
        "idade = 60\n",
        "\n",
        "if idade < 18:\n",
        "    print(\"Menor de idade\")\n",
        "elif idade >= 18 and idade < 65:\n",
        "    print(\"Adulto\")\n",
        "else:\n",
        "    print(\"Idoso\")\n"
      ]
    },
    {
      "cell_type": "code",
      "source": [
        "# @#Bem-vindo à Máquina de Venda Automática de Sucos!\n",
        "\n",
        "# Solicita a valor do cliente\n",
        "\n",
        "valor = int(input(\"Por favor, insira uma moeda de R$1,00 ou mais...\"))\n",
        "\n",
        "# Verifica a idade para sugestão de filmes\n",
        "\n",
        "if idade < 12:\n",
        "                  print(\"Recomendamos o filme infantil, FILME 1.\")\n",
        "\n",
        "elif 12<= idade < 18:\n",
        "                  print(\"Recomendamos o filme adolecente, FILME 2\")\n",
        "\n",
        "else:\n",
        "                  print(\"Recomendamos o emocionante FILME 3\")\n",
        "\n",
        "# Verifica a disponibilidade de ingressos\n",
        "\n",
        "quantidade_ingressos = 10\n",
        "\n",
        "if quantidade_ingressos > 0:\n",
        "                  print(\"Ingressos estão disponíveis. Divirta-se no cinema! \")\n",
        "\n",
        "else:\n",
        "                  print(\"Desculpe, todos os ingressos estão esgotados para hoje.\")"
      ],
      "metadata": {
        "id": "c9gDvoUshMiY"
      },
      "execution_count": null,
      "outputs": []
    },
    {
      "cell_type": "code",
      "source": [
        "#Encontrar um numero par ou impar usando range.\n",
        "\n",
        "numero = int(input(\"Digite um número maior ou igual a '1' ou 0 para sair\"))\n",
        "\n",
        "while numero != 0:\n",
        "    if numero % 2 == 0:\n",
        "      print(\"O numero é par.\")\n",
        "    else:\n",
        "      print(\"O numero é impar.\")\n",
        "    numero = int(input(\"Digite um número maior ou igual a '1' ou 0 para sair\"))"
      ],
      "metadata": {
        "id": "cKbiVg9uaY6r"
      },
      "execution_count": null,
      "outputs": []
    },
    {
      "cell_type": "code",
      "source": [
        "#Encontrar o primeiro numero par (%2 == 0) usando range.\n",
        "\n",
        "for numero in range(1, 11):\n",
        "  if numero % 2 == 0:\n",
        "    print(\"O primeiro numero par é:\", numero)\n",
        "    break"
      ],
      "metadata": {
        "id": "abF1KjPBd4g6"
      },
      "execution_count": null,
      "outputs": []
    },
    {
      "cell_type": "code",
      "source": [
        "#Fazer pular um valor (5) usando continue.\n",
        "\n",
        "for numero in range(1, 11):\n",
        "  if numero == 5:\n",
        "    continue\n",
        "  print(numero)"
      ],
      "metadata": {
        "id": "hHh6qfNQflQJ"
      },
      "execution_count": null,
      "outputs": []
    }
  ]
}